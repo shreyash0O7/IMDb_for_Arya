{
 "cells": [
  {
   "cell_type": "code",
   "execution_count": 1,
   "id": "5febc8dd",
   "metadata": {},
   "outputs": [],
   "source": [
    "import os\n",
    "import pandas as pd\n",
    "import numpy as np\n",
    "\n",
    "os.chdir('/Users/tandemyoung/Library/CloudStorage/OneDrive-UniversityofArkansas/Project Proposal - Arya/Data')\n",
    "\n",
    "#os.chdir('/Users/shreyashgupta/Library/CloudStorage/OneDrive-UniversityofArkansas/MSEA/ECON 5783 - APPLIED MICROECONOMETRICS/Project Proposal - Arya/Data')\n"
   ]
  },
  {
   "cell_type": "code",
   "execution_count": null,
   "id": "af7a9ba5",
   "metadata": {},
   "outputs": [],
   "source": [
    "# Load the datasets\n",
    "title_basics = pd.read_csv('IMDb Basics.tsv', sep='\\t', low_memory=False)\n",
    "name_basics = pd.read_csv('IMDb Name Basics.tsv', sep='\\t', low_memory=False)\n",
    "title_ratings = pd.read_csv('IMDb Ratings.tsv', sep='\\t', low_memory=False)\n",
    "title_principals = pd.read_csv('IMDb Title Principals.tsv', sep='\\t', low_memory=False)\n",
    "\n",
    "# Merging the datasets\n",
    "merged_data1 = pd.merge(title_basics, title_ratings, on='tconst')\n",
    "merged_data2 = pd.merge(merged_data1, title_principals, on='tconst')\n",
    "merged_df = pd.merge(merged_data2, name_basics, on='nconst')\n",
    "\n",
    "# You can now perform operations on the final_merged_data dataframe"
   ]
  },
  {
   "cell_type": "code",
   "execution_count": null,
   "id": "19e243f1",
   "metadata": {},
   "outputs": [],
   "source": [
    "\n"
   ]
  },
  {
   "cell_type": "code",
   "execution_count": null,
   "id": "0d9fa831",
   "metadata": {
    "scrolled": true
   },
   "outputs": [],
   "source": [
    "# basics = pd.read_csv('IMDb Basics.tsv', delimiter='\\t', low_memory=False)\n",
    "# basics = pd.DataFrame(basics)\n",
    "# basics"
   ]
  },
  {
   "cell_type": "code",
   "execution_count": null,
   "id": "d246697c",
   "metadata": {
    "scrolled": true
   },
   "outputs": [],
   "source": [
    "# name_basics = pd.read_csv('IMDb Name Basics.tsv', delimiter='\\t', low_memory=False)\n",
    "# name_basics = pd.DataFrame(name_basics)\n",
    "# name_basics"
   ]
  },
  {
   "cell_type": "code",
   "execution_count": null,
   "id": "eda91eb2",
   "metadata": {
    "scrolled": true
   },
   "outputs": [],
   "source": [
    "# # Assuming name_basics is your DataFrame and 'primaryProfession' is the column\n",
    "merged_df['is_actress'] = merged_df['primaryProfession'].apply(lambda x: 1 if 'actress' in str(x).split(',') else 0)\n",
    "\n",
    "# # This will create a new column 'is_actress' with 1 where 'primaryProfession' contains 'actress' and 0 otherwise\n",
    "# name_basics"
   ]
  },
  {
   "cell_type": "code",
   "execution_count": null,
   "id": "b92bc3f0",
   "metadata": {
    "scrolled": true
   },
   "outputs": [],
   "source": [
    "# ratings = pd.read_csv('IMDb Ratings.tsv',delimiter='\\t', low_memory=False)\n",
    "# ratings = pd.DataFrame(ratings)\n",
    "# ratings"
   ]
  },
  {
   "cell_type": "code",
   "execution_count": null,
   "id": "20c28040",
   "metadata": {
    "scrolled": true
   },
   "outputs": [],
   "source": [
    "# title_akas = pd.read_csv('IMDb Title Akas.tsv',delimiter='\\t', low_memory=False)\n",
    "# title_akas = pd.DataFrame(title_akas)\n",
    "# title_akas"
   ]
  },
  {
   "cell_type": "code",
   "execution_count": null,
   "id": "533909cd",
   "metadata": {},
   "outputs": [],
   "source": [
    "# title_akas.rename(columns={'titleId': 'tconst'}, inplace=True)"
   ]
  },
  {
   "cell_type": "code",
   "execution_count": null,
   "id": "39aab1bd",
   "metadata": {
    "scrolled": true
   },
   "outputs": [],
   "source": [
    "# title_akas"
   ]
  },
  {
   "cell_type": "code",
   "execution_count": null,
   "id": "03dee8a9",
   "metadata": {
    "scrolled": true
   },
   "outputs": [],
   "source": [
    "# crew = pd.read_csv('IMDb Title Crew.tsv',delimiter='\\t', low_memory=False)\n",
    "# crew = pd.DataFrame(crew)\n",
    "# crew"
   ]
  },
  {
   "cell_type": "code",
   "execution_count": null,
   "id": "d684d593",
   "metadata": {},
   "outputs": [],
   "source": [
    "# merged_df = pd.merge(basics, crew, on='tconst', how='inner')\n",
    "# merged_df_2 = pd.merge(merged_df, ratings, on='tconst', how='inner')\n",
    "# #final_merged_df = pd.merge(merged_df_2, title_akas, on='tconst', how='left')"
   ]
  },
  {
   "cell_type": "code",
   "execution_count": null,
   "id": "7a4da2b3",
   "metadata": {
    "scrolled": true
   },
   "outputs": [],
   "source": [
    "# merged_df_2"
   ]
  },
  {
   "cell_type": "code",
   "execution_count": null,
   "id": "bea81911",
   "metadata": {},
   "outputs": [],
   "source": [
    "# # Split the 'knownForTitles' into individual identifiers and create a new row for each\n",
    "# name_basics_expanded = name_basics.explode('knownForTitles'.split(','))\n",
    "# name_basics_expanded"
   ]
  },
  {
   "cell_type": "code",
   "execution_count": null,
   "id": "cdda028b",
   "metadata": {},
   "outputs": [],
   "source": [
    "# # Merge the expanded name_basics DataFrame with titles_df\n",
    "# merged_df = pd.merge(name_basics_expanded, merged_df_2, left_on='knownForTitles', right_on='tconst')"
   ]
  },
  {
   "cell_type": "code",
   "execution_count": null,
   "id": "1b32575f",
   "metadata": {},
   "outputs": [],
   "source": [
    "# merged_df"
   ]
  },
  {
   "cell_type": "code",
   "execution_count": null,
   "id": "970609cf",
   "metadata": {},
   "outputs": [],
   "source": [
    "# merged_df['endYear'].unique()"
   ]
  },
  {
   "cell_type": "code",
   "execution_count": null,
   "id": "630d5675",
   "metadata": {},
   "outputs": [],
   "source": [
    "# Assuming name_basics is your DataFrame\n",
    "number_of_actresses = merged_df['is_actress'].sum()\n",
    "\n",
    "print(\"Number of actresses:\", number_of_actresses)\n"
   ]
  },
  {
   "cell_type": "code",
   "execution_count": null,
   "id": "3e702a81",
   "metadata": {},
   "outputs": [],
   "source": [
    "# Convert 'startYear' to integers, handling non-numeric values as NaN (errors='coerce')\n",
    "merged_df['startYear'] = pd.to_numeric(merged_df['startYear'], errors='coerce')\n",
    "\n",
    "# Create the new column with 1 if 'startYear' is after 2017, 0 otherwise\n",
    "merged_df['is_after_2017'] = merged_df['startYear'].apply(lambda x: 1 if x > 2017 else 0)\n",
    "\n",
    "# If there were non-numeric values in 'startYear', you might want to handle NaN values in 'is_after_2017'\n",
    "# For example, replacing NaN with 0 (optional)\n",
    "merged_df['is_after_2017'].fillna(0, inplace=True)\n"
   ]
  },
  {
   "cell_type": "code",
   "execution_count": null,
   "id": "6507e99f",
   "metadata": {},
   "outputs": [],
   "source": [
    "merged_df"
   ]
  },
  {
   "cell_type": "code",
   "execution_count": null,
   "id": "dcdfdb30",
   "metadata": {},
   "outputs": [],
   "source": [
    "# exists = (merged_df['primaryName'] == 'Harvey Weinstein').any()\n",
    "# print(exists)"
   ]
  },
  {
   "cell_type": "code",
   "execution_count": null,
   "id": "3cfb558d",
   "metadata": {},
   "outputs": [],
   "source": [
    "# merged_df['genres'].unique()"
   ]
  },
  {
   "cell_type": "code",
   "execution_count": null,
   "id": "6090031c",
   "metadata": {},
   "outputs": [],
   "source": [
    "# with pd.option_context('display.max_rows', None):\n",
    "#     print(merged_df['genres'].unique())"
   ]
  },
  {
   "cell_type": "code",
   "execution_count": null,
   "id": "291394b7",
   "metadata": {},
   "outputs": [],
   "source": [
    "# unique_genres = list(merged_df['genres'].unique())\n",
    "# print(unique_genres)"
   ]
  },
  {
   "cell_type": "code",
   "execution_count": null,
   "id": "53051a83",
   "metadata": {},
   "outputs": [],
   "source": [
    "merged_df['is_action'] = merged_df['genres'].str.contains('Action', na=False).astype(int)\n",
    "merged_df['is_drama'] = merged_df['genres'].str.contains('Drama', na=False).astype(int)\n",
    "merged_df['is_romance'] = merged_df['genres'].str.contains('Romance', na=False).astype(int)\n",
    "merged_df['is_scifi'] = merged_df['genres'].str.contains('Sci-Fi', na=False).astype(int)\n",
    "merged_df['is_comedy'] = merged_df['genres'].str.contains('Comedy', na=False).astype(int)\n",
    "merged_df['is_adventure'] = merged_df['genres'].str.contains('Adventure', na=False).astype(int)\n",
    "merged_df['is_documentary'] = merged_df['genres'].str.contains('Documentary', na=False).astype(int)\n",
    "merged_df['is_fantasy'] = merged_df['genres'].str.contains('Fantasy', na=False).astype(int)\n",
    "merged_df['is_history'] = merged_df['genres'].str.contains('History', na=False).astype(int)\n",
    "merged_df['is_horror'] = merged_df['genres'].str.contains('Horror', na=False).astype(int)\n",
    "merged_df['is_biography'] = merged_df['genres'].str.contains('Biography', na=False).astype(int)"
   ]
  },
  {
   "cell_type": "code",
   "execution_count": null,
   "id": "965325a3",
   "metadata": {},
   "outputs": [],
   "source": [
    "merged_df['isAdult'] = pd.to_numeric(merged_df['isAdult'], errors='coerce')\n",
    "merged_df['runtimeMinutes'] = pd.to_numeric(merged_df['runtimeMinutes'], errors='coerce')\n",
    "merged_df['birthYear'] = pd.to_numeric(merged_df['birthYear'], errors='coerce')\n",
    "merged_df['endYear'] = pd.to_numeric(merged_df['endYear'], errors='coerce')"
   ]
  },
  {
   "cell_type": "code",
   "execution_count": null,
   "id": "ebd134f0",
   "metadata": {},
   "outputs": [],
   "source": [
    "merged_df"
   ]
  },
  {
   "cell_type": "code",
   "execution_count": null,
   "id": "5692aac8",
   "metadata": {},
   "outputs": [],
   "source": [
    "# Check for missing values\n",
    "print(merged_df.isnull().sum())\n",
    "\n",
    "# Option 1: Drop rows with missing values\n",
    "merged_df = merged_df.dropna()\n",
    "\n",
    "# Option 2: Fill missing values, e.g., with the mean or median\n",
    "#female_lead_df = female_lead_df.fillna(female_lead_df.mean())\n"
   ]
  },
  {
   "cell_type": "code",
   "execution_count": null,
   "id": "eb53414e",
   "metadata": {},
   "outputs": [],
   "source": [
    "# MODEL WITHOUT CONTROLS"
   ]
  },
  {
   "cell_type": "code",
   "execution_count": null,
   "id": "290f15c7",
   "metadata": {
    "scrolled": false
   },
   "outputs": [],
   "source": [
    "import statsmodels.api as sm\n",
    "\n",
    "# Assuming merged_df is your DataFrame\n",
    "# Filter to include only films with female leads\n",
    "#female_lead_df = merged_df[merged_df['is_actress'] == 1]\n",
    "\n",
    "# Running variable: time (year)\n",
    "merged_df['running_variable'] = merged_df['startYear'] - 2017\n",
    "\n",
    "# Interaction term\n",
    "merged_df['interaction'] = merged_df['running_variable'] * merged_df['is_after_2017']\n",
    "\n",
    "# Selecting relevant columns\n",
    "X = merged_df[['is_after_2017', 'interaction', 'is_actress']]  # Add other controls as needed\n",
    "X = sm.add_constant(X)  # Adds a constant term to the regression\n",
    "y = merged_df['averageRating']\n",
    "\n",
    "# Fitting the model\n",
    "model = sm.OLS(y, X).fit()\n",
    "\n",
    "# Viewing the results\n",
    "print(model.summary())"
   ]
  },
  {
   "cell_type": "code",
   "execution_count": null,
   "id": "a8f8bb6b",
   "metadata": {},
   "outputs": [],
   "source": [
    "merged_df"
   ]
  },
  {
   "cell_type": "code",
   "execution_count": null,
   "id": "f4135f64",
   "metadata": {},
   "outputs": [],
   "source": [
    "# GRAPH WITHOUT CONTROLS"
   ]
  },
  {
   "cell_type": "code",
   "execution_count": null,
   "id": "68e399ab",
   "metadata": {},
   "outputs": [],
   "source": [
    "import matplotlib.pyplot as plt\n",
    "import numpy as np\n",
    "\n",
    "# Calculate the predicted values\n",
    "merged_df['predicted_rating'] = model.predict(X)\n",
    "\n",
    "# Plot the raw data\n",
    "plt.figure(figsize=(12, 6))\n",
    "plt.scatter(merged_df['running_variable'], y, c='grey', alpha=0.5, label='Actual')\n",
    "\n",
    "# To plot the predicted values, you need to sort the values by the running variable\n",
    "sorted_df = merged_df.sort_values('running_variable')\n",
    "\n",
    "# Now plot the sorted predicted values\n",
    "plt.plot(sorted_df['running_variable'], sorted_df['predicted_rating'], color='red', label='Predicted')\n",
    "\n",
    "# Add the cutoff line\n",
    "plt.axvline(x=0, color='blue', linestyle='--', label='Cutoff (2017)')\n",
    "\n",
    "# Add labels and legend\n",
    "plt.xlabel('Running Variable (Year - 2017)')\n",
    "plt.ylabel('Average Rating')\n",
    "plt.title('Regression Discontinuity: Predicted vs. Actual Ratings')\n",
    "plt.legend()\n",
    "\n",
    "# Show the plot\n",
    "plt.show()"
   ]
  },
  {
   "cell_type": "code",
   "execution_count": null,
   "id": "03ade2d2",
   "metadata": {},
   "outputs": [],
   "source": [
    "# MODEL WITH CONTROLS"
   ]
  },
  {
   "cell_type": "code",
   "execution_count": null,
   "id": "84f7adfa",
   "metadata": {},
   "outputs": [],
   "source": [
    "import statsmodels.api as sm\n",
    "\n",
    "# Assuming merged_df is your DataFrame\n",
    "# Filter to include only films with female leads\n",
    "#female_lead_df = merged_df[merged_df['is_actress'] == 1]\n",
    "\n",
    "# Running variable: time (year)\n",
    "merged_df['running_variable'] = merged_df['startYear'] - 2017\n",
    "\n",
    "# Interaction term\n",
    "merged_df['interaction'] = merged_df['running_variable'] * merged_df['is_after_2017']\n",
    "\n",
    "# Selecting relevant columns\n",
    "X = merged_df[['is_after_2017', 'interaction', 'isAdult', 'is_actress', 'runtimeMinutes', 'numVotes', 'birthYear', 'is_action',\n",
    "                   'is_romance', 'is_scifi', 'is_drama', 'is_comedy', 'is_adventure', 'is_documentary', 'is_fantasy',\n",
    "              'is_history', 'is_horror', 'is_biography']]  # Add other controls as needed\n",
    "X = sm.add_constant(X)  # Adds a constant term to the regression\n",
    "y = merged_df['averageRating']\n",
    "\n",
    "# Fitting the model\n",
    "model = sm.OLS(y, X).fit()\n",
    "\n",
    "# Viewing the results\n",
    "print(model.summary())\n",
    "\n"
   ]
  },
  {
   "cell_type": "code",
   "execution_count": null,
   "id": "c9201491",
   "metadata": {},
   "outputs": [],
   "source": [
    "#merged_df = merged_df[(merged_df['startYear'] >= 2000) & (merged_df['startYear'] <= 2023)]"
   ]
  },
  {
   "cell_type": "code",
   "execution_count": null,
   "id": "2266db0e",
   "metadata": {},
   "outputs": [],
   "source": [
    "# GRAPH WITH CONTROLS"
   ]
  },
  {
   "cell_type": "code",
   "execution_count": null,
   "id": "68070cc5",
   "metadata": {},
   "outputs": [],
   "source": [
    "import matplotlib.pyplot as plt\n",
    "import numpy as np\n",
    "\n",
    "# Calculate the predicted values\n",
    "merged_df['predicted_rating'] = model.predict(X)\n",
    "\n",
    "# Plot the raw data\n",
    "plt.figure(figsize=(12, 6))\n",
    "plt.scatter(merged_df['running_variable'], y, c='grey', alpha=0.5, label='Actual')\n",
    "\n",
    "# To plot the predicted values, you need to sort the values by the running variable\n",
    "sorted_df = merged_df.sort_values('running_variable')\n",
    "\n",
    "# Now plot the sorted predicted values\n",
    "plt.plot(sorted_df['running_variable'], sorted_df['predicted_rating'], color='red', label='Predicted')\n",
    "\n",
    "# Add the cutoff line\n",
    "plt.axvline(x=0, color='blue', linestyle='--', label='Cutoff (2017)')\n",
    "\n",
    "# Add labels and legend\n",
    "plt.xlabel('Running Variable (Year - 2017)')\n",
    "plt.ylabel('Average Rating')\n",
    "plt.title('Regression Discontinuity: Predicted vs. Actual Ratings')\n",
    "plt.legend()\n",
    "\n",
    "# Show the plot\n",
    "plt.show()"
   ]
  },
  {
   "cell_type": "code",
   "execution_count": null,
   "id": "0d69c50a",
   "metadata": {},
   "outputs": [],
   "source": [
    "# Filter to include only films with female leads\n",
    "female_lead_df = merged_df[merged_df['is_actress'] == 1]\n",
    "female_lead_df = female_lead_df[(female_lead_df['startYear'] >= 2000) & (female_lead_df['startYear'] <= 2023)]\n",
    "female_lead_df"
   ]
  },
  {
   "cell_type": "code",
   "execution_count": null,
   "id": "a3f0112f",
   "metadata": {},
   "outputs": [],
   "source": [
    "# Check for missing values\n",
    "print(female_lead_df.isnull().sum())\n",
    "\n",
    "# Option 1: Drop rows with missing values\n",
    "female_lead_df = female_lead_df.dropna()\n",
    "\n",
    "# Option 2: Fill missing values, e.g., with the mean or median\n",
    "#female_lead_df = female_lead_df.fillna(female_lead_df.mean())\n"
   ]
  },
  {
   "cell_type": "code",
   "execution_count": null,
   "id": "f35864dd",
   "metadata": {},
   "outputs": [],
   "source": [
    "# Check for infinite values\n",
    "print(female_lead_df.isin([np.inf, -np.inf]).sum())\n",
    "\n",
    "# Replace infinite values with NaN and then handle NaNs as above\n",
    "female_lead_df = female_lead_df.replace([np.inf, -np.inf], np.nan)\n"
   ]
  },
  {
   "cell_type": "code",
   "execution_count": null,
   "id": "89512877",
   "metadata": {},
   "outputs": [],
   "source": [
    "# FEMALE WITHOUT CONTROLS"
   ]
  },
  {
   "cell_type": "code",
   "execution_count": null,
   "id": "5196d41a",
   "metadata": {},
   "outputs": [],
   "source": [
    "import statsmodels.api as sm\n",
    "\n",
    "# Assuming merged_df is your DataFrame\n",
    "# Filter to include only films with female leads\n",
    "#female_lead_df = merged_df[merged_df['is_actress'] == 1]\n",
    "\n",
    "# Running variable: time (year)\n",
    "female_lead_df['running_variable'] = female_lead_df['startYear'] - 2017\n",
    "\n",
    "# Interaction term\n",
    "female_lead_df['interaction'] = female_lead_df['running_variable'] * female_lead_df['is_after_2017']\n",
    "\n",
    "# Selecting relevant columns\n",
    "X = female_lead_df[['is_after_2017', 'interaction']]  # Add other controls as needed\n",
    "X = sm.add_constant(X)  # Adds a constant term to the regression\n",
    "y = female_lead_df['averageRating']\n",
    "\n",
    "# Fitting the model\n",
    "model = sm.OLS(y, X).fit()\n",
    "\n",
    "# Viewing the results\n",
    "print(model.summary())"
   ]
  },
  {
   "cell_type": "code",
   "execution_count": null,
   "id": "13e92528",
   "metadata": {},
   "outputs": [],
   "source": [
    "# GRAPH FEMALE WITHOUT CONTROLS"
   ]
  },
  {
   "cell_type": "code",
   "execution_count": null,
   "id": "585937e0",
   "metadata": {},
   "outputs": [],
   "source": [
    "import matplotlib.pyplot as plt\n",
    "import numpy as np\n",
    "\n",
    "# Calculate the predicted values\n",
    "female_lead_df['predicted_rating'] = model.predict(X)\n",
    "\n",
    "# Plot the raw data\n",
    "plt.figure(figsize=(12, 6))\n",
    "plt.scatter(female_lead_df['running_variable'], y, c='grey', alpha=0.5, label='Actual')\n",
    "\n",
    "# To plot the predicted values, you need to sort the values by the running variable\n",
    "sorted_df = female_lead_df.sort_values('running_variable')\n",
    "\n",
    "# Now plot the sorted predicted values\n",
    "plt.plot(sorted_df['running_variable'], sorted_df['predicted_rating'], color='red', label='Predicted')\n",
    "\n",
    "# Add the cutoff line\n",
    "plt.axvline(x=0, color='blue', linestyle='--', label='Cutoff (2017)')\n",
    "\n",
    "# Add labels and legend\n",
    "plt.xlabel('Running Variable (Year - 2017)')\n",
    "plt.ylabel('Average Rating')\n",
    "plt.title('Regression Discontinuity: Predicted vs. Actual Ratings')\n",
    "plt.legend()\n",
    "\n",
    "# Show the plot\n",
    "plt.show()"
   ]
  },
  {
   "cell_type": "code",
   "execution_count": null,
   "id": "5d23bd68",
   "metadata": {},
   "outputs": [],
   "source": [
    "# FEMALE WITH CONTROLS"
   ]
  },
  {
   "cell_type": "code",
   "execution_count": null,
   "id": "097e6631",
   "metadata": {},
   "outputs": [],
   "source": [
    "import statsmodels.api as sm\n",
    "\n",
    "# Assuming merged_df is your DataFrame\n",
    "# Filter to include only films with female leads\n",
    "#female_lead_df = merged_df[merged_df['is_actress'] == 1]\n",
    "\n",
    "# Running variable: time (year)\n",
    "female_lead_df['running_variable'] = female_lead_df['startYear'] - 2017\n",
    "\n",
    "# Interaction term\n",
    "female_lead_df['interaction'] = female_lead_df['running_variable'] * female_lead_df['is_after_2017']\n",
    "\n",
    "# Selecting relevant columns\n",
    "X = female_lead_df[['is_after_2017', 'interaction', 'isAdult', 'runtimeMinutes', 'numVotes', 'birthYear', 'is_action',\n",
    "                   'is_romance', 'is_scifi', 'is_drama', 'is_comedy', 'is_adventure', 'is_documentary', 'is_fantasy',\n",
    "              'is_history', 'is_horror', 'is_biography']]  # Add other controls as needed\n",
    "X = sm.add_constant(X)  # Adds a constant term to the regression\n",
    "y = female_lead_df['averageRating']\n",
    "\n",
    "# Fitting the model\n",
    "model = sm.OLS(y, X).fit()\n",
    "\n",
    "# Viewing the results\n",
    "print(model.summary())\n"
   ]
  },
  {
   "cell_type": "code",
   "execution_count": null,
   "id": "03035a1f",
   "metadata": {},
   "outputs": [],
   "source": [
    "import matplotlib.pyplot as plt\n",
    "import numpy as np\n",
    "\n",
    "# Calculate the predicted values\n",
    "female_lead_df['predicted_rating'] = model.predict(X)\n",
    "\n",
    "# Plot the raw data\n",
    "plt.figure(figsize=(12, 6))\n",
    "plt.scatter(female_lead_df['running_variable'], y, c='grey', alpha=0.5, label='Actual')\n",
    "\n",
    "# To plot the predicted values, you need to sort the values by the running variable\n",
    "sorted_df = female_lead_df.sort_values('running_variable')\n",
    "\n",
    "# Now plot the sorted predicted values\n",
    "plt.plot(sorted_df['running_variable'], sorted_df['predicted_rating'], color='red', label='Predicted')\n",
    "\n",
    "# Add the cutoff line\n",
    "plt.axvline(x=0, color='blue', linestyle='--', label='Cutoff (2017)')\n",
    "\n",
    "# Add labels and legend\n",
    "plt.xlabel('Running Variable (Year - 2017)')\n",
    "plt.ylabel('Average Rating')\n",
    "plt.title('Regression Discontinuity: Predicted vs. Actual Ratings')\n",
    "plt.legend()\n",
    "\n",
    "# Show the plot\n",
    "plt.show()\n"
   ]
  },
  {
   "cell_type": "code",
   "execution_count": null,
   "id": "fa771d4d",
   "metadata": {},
   "outputs": [],
   "source": [
    "# WIGGLY COOL, BUT BIG"
   ]
  },
  {
   "cell_type": "code",
   "execution_count": null,
   "id": "b5627e04",
   "metadata": {},
   "outputs": [],
   "source": [
    "import matplotlib.pyplot as plt\n",
    "import numpy as np\n",
    "\n",
    "# Calculate the predicted values\n",
    "female_lead_df['predicted_rating'] = model.predict(X)\n",
    "\n",
    "# Plot the raw data\n",
    "plt.figure(figsize=(12, 6))\n",
    "plt.scatter(female_lead_df['running_variable'], y, c='grey', alpha=0.5, label='Actual')\n",
    "\n",
    "# To plot the predicted values, you need to sort the values by the running variable\n",
    "sorted_df = female_lead_df.sort_values('running_variable')\n",
    "\n",
    "# Now plot the sorted predicted values\n",
    "plt.plot(sorted_df['running_variable'], sorted_df['predicted_rating'], color='red', label='Predicted')\n",
    "\n",
    "# Add the cutoff line\n",
    "plt.axvline(x=0, color='blue', linestyle='--', label='Cutoff (2017)')\n",
    "\n",
    "# Add labels and legend\n",
    "plt.xlabel('Running Variable (Year - 2017)')\n",
    "plt.ylabel('Average Rating')\n",
    "plt.title('Regression Discontinuity: Predicted vs. Actual Ratings')\n",
    "plt.legend()\n",
    "\n",
    "# Set limit\n",
    "plt.xlim(-2, 2)\n",
    "\n",
    "# Show the plot\n",
    "plt.show()\n"
   ]
  },
  {
   "cell_type": "code",
   "execution_count": null,
   "id": "51c357aa",
   "metadata": {},
   "outputs": [],
   "source": [
    "import matplotlib.pyplot as plt\n",
    "import seaborn as sns\n",
    "\n",
    "# Scatter plot of the data\n",
    "plt.figure(figsize=(12, 6))\n",
    "sns.scatterplot(x='startYear', y='averageRating', data=female_lead_df, hue='is_after_2017')\n",
    "\n",
    "# Separate the data into before and after the cutoff\n",
    "before_cutoff = female_lead_df[female_lead_df['is_after_2017'] == 0]\n",
    "#after_cutoff = female_lead_df[female_lead_df['is_after_2017'] == 1]\n",
    "#before_cutoff = filtered_df[filtered_df['startYear'] <= 2017]\n",
    "after_cutoff = female_lead_df[female_lead_df['startYear'] >= 2017]\n",
    "\n",
    "# Fit and plot a linear regression for data before the cutoff\n",
    "sns.regplot(x='startYear', y='averageRating', data=before_cutoff, scatter=False, label='Before 2017')\n",
    "\n",
    "# Fit and plot a linear regression for data after the cutoff\n",
    "sns.regplot(x='startYear', y='averageRating', data=after_cutoff, scatter=False, label='After 2017')\n",
    "\n",
    "# Cutoff line at 2017\n",
    "plt.axvline(x=2017, color='red', linestyle='--', label='Cutoff (2017)')\n",
    "\n",
    "# Labels and legend\n",
    "plt.xlabel('Year')\n",
    "plt.ylabel('Average Rating')\n",
    "plt.title('RDD Analysis of Average Ratings of Films with Female Leads')\n",
    "plt.legend()\n",
    "\n",
    "# Set limit\n",
    "plt.xlim(1999.5, 2023.25)\n",
    "\n",
    "# Show plot\n",
    "plt.show()\n"
   ]
  },
  {
   "cell_type": "code",
   "execution_count": null,
   "id": "74411c24",
   "metadata": {},
   "outputs": [],
   "source": [
    "#before_cutoff"
   ]
  },
  {
   "cell_type": "code",
   "execution_count": null,
   "id": "f7a57c07",
   "metadata": {},
   "outputs": [],
   "source": [
    "import matplotlib.pyplot as plt\n",
    "import seaborn as sns\n",
    "\n",
    "# Filter the DataFrame for the years 2015 to 2020\n",
    "filtered_df = female_lead_df[(female_lead_df['startYear'] >= 2000) & (female_lead_df['startYear'] <= 2023)]\n",
    "\n",
    "# Scatter plot of the filtered data\n",
    "plt.figure(figsize=(12, 6))\n",
    "sns.scatterplot(x='startYear', y='averageRating', data=filtered_df, hue='is_after_2017')\n",
    "\n",
    "# Separate the filtered data into before and after the cutoff\n",
    "before_cutoff = filtered_df[filtered_df['startYear'] <= 2017]\n",
    "after_cutoff = filtered_df[filtered_df['startYear'] >= 2017]\n",
    "\n",
    "# Fit and plot a linear regression for filtered data before the cutoff\n",
    "sns.regplot(x='startYear', y='averageRating', data=before_cutoff, scatter=False, label='Before 2017')\n",
    "\n",
    "# Fit and plot a linear regression for filtered data after the cutoff\n",
    "sns.regplot(x='startYear', y='averageRating', data=after_cutoff, scatter=False, label='After 2017')\n",
    "\n",
    "# Cutoff line at 2017\n",
    "plt.axvline(x=2017, color='red', linestyle='--', label='Cutoff (2017)')\n",
    "\n",
    "# Labels and legend\n",
    "plt.xlabel('Year')\n",
    "plt.ylabel('Average Rating')\n",
    "plt.title('RDD Analysis of Average Ratings of Films with Female Leads (2015-2018)')\n",
    "plt.legend()\n",
    "\n",
    "# Set the x-axis limits to 2015-2020\n",
    "plt.xlim(2015.75, 2018.25)\n",
    "\n",
    "# Show plot\n",
    "plt.show()\n"
   ]
  },
  {
   "cell_type": "code",
   "execution_count": null,
   "id": "9ba07d6e",
   "metadata": {},
   "outputs": [],
   "source": [
    "import matplotlib.pyplot as plt\n",
    "import seaborn as sns\n",
    "import numpy as np\n",
    "\n",
    "# Filter the DataFrame for the years 2000 to 2023\n",
    "filtered_df = female_lead_df[(female_lead_df['startYear'] >= 2015) & (female_lead_df['startYear'] <= 2023)]\n",
    "\n",
    "# Scatter plot of the data\n",
    "plt.figure(figsize=(12, 6))\n",
    "sns.scatterplot(x='running_variable', y='averageRating', data=filtered_df, hue='is_after_2017', palette=['blue', 'black'])\n",
    "\n",
    "# Fit a polynomial regression for data before the cutoff\n",
    "before_cutoff = filtered_df[filtered_df['is_after_2017'] == 0]\n",
    "z_before = np.polyfit(before_cutoff['running_variable'], before_cutoff['averageRating'], deg=2)\n",
    "p_before = np.poly1d(z_before)\n",
    "\n",
    "# Fit a polynomial regression for data after the cutoff\n",
    "after_cutoff = filtered_df[filtered_df['is_after_2017'] == 1]\n",
    "z_after = np.polyfit(after_cutoff['running_variable'], after_cutoff['averageRating'], deg=2)\n",
    "p_after = np.poly1d(z_after)\n",
    "\n",
    "# Generate a range of values for the running variable\n",
    "x_range = np.linspace(filtered_df['running_variable'].min(), filtered_df['running_variable'].max(), 100)\n",
    "\n",
    "# Plot the polynomial regression lines\n",
    "plt.plot(x_range, p_before(x_range), color='blue', linestyle='-')\n",
    "plt.plot(x_range, p_after(x_range), color='black', linestyle='-')\n",
    "\n",
    "# Cutoff line at 0 (since running_variable is relative to the cutoff)\n",
    "plt.axvline(x=0, color='red', linestyle='--')\n",
    "\n",
    "# Labels and legend\n",
    "plt.xlabel('Running Variable (Year - 2017)')\n",
    "plt.ylabel('Average Rating')\n",
    "plt.title('RDD Analysis of Average Ratings of Films with Female Leads (2000-2023)')\n",
    "plt.legend()\n",
    "\n",
    "# Show plot\n",
    "plt.show()\n"
   ]
  },
  {
   "cell_type": "code",
   "execution_count": null,
   "id": "1f7719db",
   "metadata": {},
   "outputs": [],
   "source": []
  }
 ],
 "metadata": {
  "kernelspec": {
   "display_name": "Python 3 (ipykernel)",
   "language": "python",
   "name": "python3"
  },
  "language_info": {
   "codemirror_mode": {
    "name": "ipython",
    "version": 3
   },
   "file_extension": ".py",
   "mimetype": "text/x-python",
   "name": "python",
   "nbconvert_exporter": "python",
   "pygments_lexer": "ipython3",
   "version": "3.10.9"
  }
 },
 "nbformat": 4,
 "nbformat_minor": 5
}
